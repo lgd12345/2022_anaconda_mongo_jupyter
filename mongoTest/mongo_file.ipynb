{
 "cells": [
  {
   "cell_type": "code",
   "execution_count": 1,
   "id": "72f07978",
   "metadata": {},
   "outputs": [],
   "source": [
    "# !pip install pymongo"
   ]
  },
  {
   "cell_type": "code",
   "execution_count": 2,
   "id": "e97dbef2",
   "metadata": {},
   "outputs": [
    {
     "data": {
      "text/plain": [
       "Database(MongoClient(host=['localhost:27017'], document_class=dict, tz_aware=False, connect=True), 'python_test')"
      ]
     },
     "execution_count": 2,
     "metadata": {},
     "output_type": "execute_result"
    }
   ],
   "source": [
    "from pymongo import MongoClient\n",
    "from gridfs import GridFS\n",
    "db = MongoClient().python_test\n",
    "db"
   ]
  },
  {
   "cell_type": "code",
   "execution_count": 3,
   "id": "bf9925a6",
   "metadata": {},
   "outputs": [
    {
     "data": {
      "text/plain": [
       "<gridfs.GridFS at 0x20f28840700>"
      ]
     },
     "execution_count": 3,
     "metadata": {},
     "output_type": "execute_result"
    }
   ],
   "source": [
    "fs = GridFS(db) #이진데이터 저장\n",
    "fs"
   ]
  },
  {
   "cell_type": "code",
   "execution_count": 4,
   "id": "03d07608",
   "metadata": {},
   "outputs": [
    {
     "name": "stdout",
     "output_type": "stream",
     "text": [
      "f = <_io.BufferedReader name='test.txt'>\n"
     ]
    }
   ],
   "source": [
    "with open('test.txt','rb')as f:\n",
    "    fs.put(f,filename='test.txt')\n",
    "    print('f =',f)"
   ]
  },
  {
   "cell_type": "code",
   "execution_count": 5,
   "id": "2a10ae3a",
   "metadata": {},
   "outputs": [
    {
     "name": "stdout",
     "output_type": "stream",
     "text": [
      "<pymongo.cursor.Cursor object at 0x0000020F28840130>\n"
     ]
    }
   ],
   "source": [
    "print(db.fs.files.find())"
   ]
  },
  {
   "cell_type": "code",
   "execution_count": 6,
   "id": "45dd3e45",
   "metadata": {},
   "outputs": [
    {
     "name": "stdout",
     "output_type": "stream",
     "text": [
      "len: 1\n"
     ]
    }
   ],
   "source": [
    "fs_list = list(db.fs.files.find())\n",
    "print(\"len:\",len(fs_list))"
   ]
  },
  {
   "cell_type": "code",
   "execution_count": 7,
   "id": "cbecf3cb",
   "metadata": {},
   "outputs": [
    {
     "data": {
      "text/plain": [
       "[{'_id': ObjectId('63608c6ae2ba98a6c2c47b07'),\n",
       "  'filename': 'test.txt',\n",
       "  'chunkSize': 261120,\n",
       "  'length': 59,\n",
       "  'uploadDate': datetime.datetime(2022, 11, 1, 3, 3, 6, 422000)}]"
      ]
     },
     "execution_count": 7,
     "metadata": {},
     "output_type": "execute_result"
    }
   ],
   "source": [
    "fs_list"
   ]
  },
  {
   "cell_type": "code",
   "execution_count": 8,
   "id": "db6933b2",
   "metadata": {},
   "outputs": [
    {
     "data": {
      "text/plain": [
       "'mongo test 몽고 db gridfs에 저장할 내용입니다.\\r\\n'"
      ]
     },
     "execution_count": 8,
     "metadata": {},
     "output_type": "execute_result"
    }
   ],
   "source": [
    "f = fs.get_last_version(filename=\"test.txt\")\n",
    "f_decode = f.read().decode('utf-8')\n",
    "f_decode"
   ]
  },
  {
   "cell_type": "code",
   "execution_count": null,
   "id": "46669831",
   "metadata": {},
   "outputs": [],
   "source": []
  }
 ],
 "metadata": {
  "kernelspec": {
   "display_name": "Python 3",
   "language": "python",
   "name": "python3"
  },
  "language_info": {
   "codemirror_mode": {
    "name": "ipython",
    "version": 3
   },
   "file_extension": ".py",
   "mimetype": "text/x-python",
   "name": "python",
   "nbconvert_exporter": "python",
   "pygments_lexer": "ipython3",
   "version": "3.8.8"
  }
 },
 "nbformat": 4,
 "nbformat_minor": 5
}
