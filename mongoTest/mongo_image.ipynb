{
 "cells": [
  {
   "cell_type": "code",
   "execution_count": 1,
   "id": "63cc657a",
   "metadata": {},
   "outputs": [],
   "source": [
    "# !pip install Pillow"
   ]
  },
  {
   "cell_type": "code",
   "execution_count": 2,
   "id": "aba66ac1",
   "metadata": {},
   "outputs": [],
   "source": [
    "from PIL import Image, ImageFilter"
   ]
  },
  {
   "cell_type": "code",
   "execution_count": 3,
   "id": "1425ee09",
   "metadata": {},
   "outputs": [
    {
     "data": {
      "text/plain": [
       "(1920, 1280)"
      ]
     },
     "execution_count": 3,
     "metadata": {},
     "output_type": "execute_result"
    }
   ],
   "source": [
    "im = Image.open('pb.jpg')\n",
    "im.size"
   ]
  },
  {
   "cell_type": "code",
   "execution_count": 4,
   "id": "1205bf4b",
   "metadata": {},
   "outputs": [],
   "source": [
    "im.save('pb_copy.jpg')"
   ]
  },
  {
   "cell_type": "code",
   "execution_count": 5,
   "id": "84d3d7a0",
   "metadata": {},
   "outputs": [],
   "source": [
    "#썸네일이미지생성\n",
    "im = Image.open('pb.jpg')\n",
    "size = (64,64) #thumbnail 이미지 생성\n",
    "im.thumbnail(size)\n",
    "im.save('pb_thumb.jpg')"
   ]
  },
  {
   "cell_type": "code",
   "execution_count": 6,
   "id": "19ca4819",
   "metadata": {},
   "outputs": [],
   "source": [
    "#특정 좌표 부분 \n",
    "im = Image.open('pb.jpg')\n",
    "croplmage = im.crop((100,100,150,150))\n",
    "croplmage.save('pb-crop.jpg')"
   ]
  },
  {
   "cell_type": "code",
   "execution_count": 7,
   "id": "61e1c6d1",
   "metadata": {},
   "outputs": [],
   "source": [
    "#사이즈 500\n",
    "im = Image.open('pb.jpg')\n",
    "img2 = im.resize((500,500))\n",
    "img2.save('pb-500.jpg')"
   ]
  },
  {
   "cell_type": "code",
   "execution_count": 8,
   "id": "fee27e41",
   "metadata": {},
   "outputs": [],
   "source": [
    "# 90도 회전\n",
    "im = Image.open('pb.jpg')\n",
    "img3 = im.rotate(90)\n",
    "img3.save('pb-rotate.jpg')"
   ]
  },
  {
   "cell_type": "code",
   "execution_count": 9,
   "id": "60016f50",
   "metadata": {},
   "outputs": [],
   "source": [
    "#블러처리\n",
    "im = Image.open('pb.jpg')\n",
    "blurImage = im.filter(ImageFilter.BLUR)\n",
    "blurImage.save('pb-blur.jpg')"
   ]
  },
  {
   "cell_type": "code",
   "execution_count": null,
   "id": "0b9eff67",
   "metadata": {},
   "outputs": [],
   "source": []
  }
 ],
 "metadata": {
  "kernelspec": {
   "display_name": "Python 3",
   "language": "python",
   "name": "python3"
  },
  "language_info": {
   "codemirror_mode": {
    "name": "ipython",
    "version": 3
   },
   "file_extension": ".py",
   "mimetype": "text/x-python",
   "name": "python",
   "nbconvert_exporter": "python",
   "pygments_lexer": "ipython3",
   "version": "3.8.8"
  }
 },
 "nbformat": 4,
 "nbformat_minor": 5
}
